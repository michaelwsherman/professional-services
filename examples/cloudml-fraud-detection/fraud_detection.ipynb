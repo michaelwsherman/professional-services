{
  "nbformat": 4,
  "nbformat_minor": 0,
  "metadata": {
    "colab": {
      "name": "fraud-detection-example-private.ipynb",
      "version": "0.3.2",
      "views": {},
      "default_view": {},
      "provenance": [],
      "collapsed_sections": []
    },
    "kernelspec": {
      "name": "python2",
      "display_name": "Python 2"
    }
  },
  "cells": [
    {
      "metadata": {
        "id": "AqcZQpdcOyVn",
        "colab_type": "text"
      },
      "cell_type": "markdown",
      "source": [
        "<h1>0. Introduction</h1>\n",
        "\n",
        "This notebook implements and runs a fraud detection model for credit-cards transactions using the Google Cloud platform. In this notebooks we will execute code to process data, train a tensorflow model, run predictions on new data and assess model performances.\n",
        "\n",
        "\n",
        "\n",
        "**Before you start, you will need to:**\n",
        "\n",
        "* Create a Google Cloud project and a bucket in Google Cloud Storage\n",
        "* Install gcloud SDK to run gcloud commands: https://cloud.google.com/sdk/downloads\n",
        "\n",
        "**You can also:**\n",
        "\n",
        "* Go through the python code available here: https://source.developers.google.com/p/fraud-detection-example/r/fraud-detection\n"
      ]
    },
    {
      "metadata": {
        "id": "O2fzNA9AXtDz",
        "colab_type": "text"
      },
      "cell_type": "markdown",
      "source": [
        "<h1>1. Environment set-up</h1>"
      ]
    },
    {
      "metadata": {
        "id": "EoWIK3ofXtED",
        "colab_type": "text"
      },
      "cell_type": "markdown",
      "source": [
        "**Authenticate with the gcloud command**"
      ]
    },
    {
      "metadata": {
        "id": "8mgn6yojTA1g",
        "colab_type": "code",
        "colab": {
          "autoexec": {
            "startup": false,
            "wait_interval": 0
          }
        }
      },
      "cell_type": "code",
      "source": [
        "from google.colab import auth\n",
        "auth.authenticate_user()"
      ],
      "execution_count": 0,
      "outputs": []
    },
    {
      "metadata": {
        "id": "kWG6ICxYXtEO",
        "colab_type": "text"
      },
      "cell_type": "markdown",
      "source": [
        "**Project information**\n",
        "\n",
        "Hard-code your project information as environment variables to be used in the following steps.\n",
        "* PROJECT_ID is your GCP project ID to use for this example\n",
        "* BUCKET_ID is the name of your bucket to to store outputs for this example \n",
        "* BQ_TABLE_NAME is the name of your BQ table containing the raw data"
      ]
    },
    {
      "metadata": {
        "id": "KWzr7Dd3XtEP",
        "colab_type": "code",
        "colab": {
          "autoexec": {
            "startup": false,
            "wait_interval": 0
          },
          "base_uri": "https://localhost:8080/",
          "height": 68
        },
        "outputId": "4d70df1c-cffc-4f98-c15b-d4e1507cdae7",
        "executionInfo": {
          "status": "ok",
          "timestamp": 1522882324452,
          "user_tz": 240,
          "elapsed": 338,
          "user": {
            "displayName": "Arthur Argenson",
            "photoUrl": "https://lh3.googleusercontent.com/a/default-user=s128",
            "userId": "103507511977375243246"
          }
        }
      },
      "cell_type": "code",
      "source": [
        "%env PROJECT_ID=fraud-detection-example\n",
        "%env BUCKET_ID=fraud-detection-example\n",
        "%env BQ_TABLE_NAME=raw_data"
      ],
      "execution_count": 58,
      "outputs": [
        {
          "output_type": "stream",
          "text": [
            "env: PROJECT_ID=fraud-detection-example\n",
            "env: BUCKET_ID=fraud-detection-example\n",
            "env: BQ_TABLE_NAME=raw_data\n"
          ],
          "name": "stdout"
        }
      ]
    },
    {
      "metadata": {
        "id": "Jux7D09NcxxK",
        "colab_type": "text"
      },
      "cell_type": "markdown",
      "source": [
        "**Set your GCP project id**"
      ]
    },
    {
      "metadata": {
        "id": "SVLKSwrw5OrA",
        "colab_type": "code",
        "colab": {
          "autoexec": {
            "startup": false,
            "wait_interval": 0
          },
          "base_uri": "https://localhost:8080/",
          "height": 34
        },
        "outputId": "f5aa0d91-37ac-496f-d66e-ed36333a21fa",
        "executionInfo": {
          "status": "ok",
          "timestamp": 1522866134691,
          "user_tz": 240,
          "elapsed": 1017,
          "user": {
            "displayName": "Arthur Argenson",
            "photoUrl": "https://lh3.googleusercontent.com/a/default-user=s128",
            "userId": "103507511977375243246"
          }
        }
      },
      "cell_type": "code",
      "source": [
        "%%bash\n",
        "gcloud config set project $PROJECT_ID"
      ],
      "execution_count": 15,
      "outputs": [
        {
          "output_type": "stream",
          "text": [
            "Updated property [core/project].\n"
          ],
          "name": "stderr"
        }
      ]
    },
    {
      "metadata": {
        "id": "wE1hDBHNzQfZ",
        "colab_type": "text"
      },
      "cell_type": "markdown",
      "source": [
        "**Set up the dataset using Google BigQuery**\n",
        "\n",
        "In your project, create a BigQuery dataset named 'fraud_detection' and create a table from the data stored in GCP public bucket by running the command below.\n"
      ]
    },
    {
      "metadata": {
        "id": "BKQpJEYlvPAt",
        "colab_type": "code",
        "colab": {
          "autoexec": {
            "startup": false,
            "wait_interval": 0
          },
          "base_uri": "https://localhost:8080/",
          "height": 34
        },
        "outputId": "2facccb1-09f7-49a5-cd44-9796527e266f",
        "executionInfo": {
          "status": "ok",
          "timestamp": 1522849572022,
          "user_tz": 240,
          "elapsed": 3489,
          "user": {
            "displayName": "Arthur Argenson",
            "photoUrl": "https://lh3.googleusercontent.com/a/default-user=s128",
            "userId": "103507511977375243246"
          }
        }
      },
      "cell_type": "code",
      "source": [
        "%%bash\n",
        "bq load --project_id $PROJECT_ID --autodetect \\\n",
        "--source_format=CSV fraud_detection.$BQ_TABLE_NAME gs://fraud-detection-example/creditcard_proc.csv"
      ],
      "execution_count": 36,
      "outputs": [
        {
          "output_type": "stream",
          "text": [
            "Process is interrupted.\n"
          ],
          "name": "stdout"
        }
      ]
    },
    {
      "metadata": {
        "id": "A_v9ATnfXtEF",
        "colab_type": "text"
      },
      "cell_type": "markdown",
      "source": [
        "**Clone the git repository containing the necessary code**\n",
        "\n",
        "It contains python code to process data, train a tensorflow model and run predictions."
      ]
    },
    {
      "metadata": {
        "id": "oN_HMpzFOyWR",
        "colab_type": "code",
        "colab": {
          "autoexec": {
            "startup": false,
            "wait_interval": 0
          },
          "base_uri": "https://localhost:8080/",
          "height": 34
        },
        "outputId": "074314ae-1027-43af-d96e-ff241b05107f",
        "executionInfo": {
          "status": "ok",
          "timestamp": 1522863398141,
          "user_tz": 240,
          "elapsed": 2303,
          "user": {
            "displayName": "Arthur Argenson",
            "photoUrl": "https://lh3.googleusercontent.com/a/default-user=s128",
            "userId": "103507511977375243246"
          }
        }
      },
      "cell_type": "code",
      "source": [
        "!gcloud source repos clone fraud-detection --project=fraud-detection-example"
      ],
      "execution_count": 7,
      "outputs": [
        {
          "output_type": "stream",
          "text": [
            "\u001b[1;31mERROR:\u001b[0m (gcloud.source.repos.clone) Directory path specified exists and is not empty\r\n"
          ],
          "name": "stdout"
        }
      ]
    },
    {
      "metadata": {
        "id": "3buGJ-WWZFzS",
        "colab_type": "text"
      },
      "cell_type": "markdown",
      "source": [
        "**Note: you may need to request access to the GCP bucket and repository**"
      ]
    },
    {
      "metadata": {
        "id": "0AdEHrw6XtEL",
        "colab_type": "text"
      },
      "cell_type": "markdown",
      "source": [
        "**Current timestamp for unique naming**\n",
        "\n",
        "We use the current timestamp as a string to ensure unique naming through the different steps of the process."
      ]
    },
    {
      "metadata": {
        "id": "zenhdMKSXtEL",
        "colab_type": "code",
        "colab": {
          "autoexec": {
            "startup": false,
            "wait_interval": 0
          },
          "base_uri": "https://localhost:8080/",
          "height": 34
        },
        "outputId": "3d17c931-31ad-46a7-bfda-6e9c19e22087",
        "executionInfo": {
          "status": "ok",
          "timestamp": 1522863398563,
          "user_tz": 240,
          "elapsed": 400,
          "user": {
            "displayName": "Arthur Argenson",
            "photoUrl": "https://lh3.googleusercontent.com/a/default-user=s128",
            "userId": "103507511977375243246"
          }
        }
      },
      "cell_type": "code",
      "source": [
        "import os\n",
        "import time\n",
        "\n",
        "current_time = str(time.time()).replace('.', '')\n",
        "current_time"
      ],
      "execution_count": 8,
      "outputs": [
        {
          "output_type": "execute_result",
          "data": {
            "text/plain": [
              "'152286339827'"
            ]
          },
          "metadata": {
            "tags": []
          },
          "execution_count": 8
        }
      ]
    },
    {
      "metadata": {
        "id": "29Cv225aXtES",
        "colab_type": "text"
      },
      "cell_type": "markdown",
      "source": [
        "<h1>2. Run data preprocessing in Google Cloud Dataflow</h1>"
      ]
    },
    {
      "metadata": {
        "id": "3yfSnDRMXtET",
        "colab_type": "text"
      },
      "cell_type": "markdown",
      "source": [
        "In this part we run the data preprocessing in Google Cloud Dataflow using the Apache-Beam and Tensorflow-Transform libraries.\n",
        "\n",
        "This step includes the following:\n",
        "- reads data from BigQuery\n",
        "- adds hash key value to each row\n",
        "- scales data\n",
        "- shuffles and splits data in train / validation / test sets\n",
        "- oversamples train data\n",
        "- stores data as TFRecord\n",
        "- splits and stores test data into labels and features files"
      ]
    },
    {
      "metadata": {
        "id": "GgO79t8NXtEU",
        "colab_type": "text"
      },
      "cell_type": "markdown",
      "source": [
        "**Output path**\n",
        "\n",
        "Hard-code the output path of data processing to be used in the following steps."
      ]
    },
    {
      "metadata": {
        "id": "4oOoiwndT2qi",
        "colab_type": "code",
        "colab": {
          "autoexec": {
            "startup": false,
            "wait_interval": 0
          },
          "base_uri": "https://localhost:8080/",
          "height": 34
        },
        "outputId": "16519438-f4cf-48b5-da90-71b4bf65252c",
        "executionInfo": {
          "status": "ok",
          "timestamp": 1522863403913,
          "user_tz": 240,
          "elapsed": 1410,
          "user": {
            "displayName": "Arthur Argenson",
            "photoUrl": "https://lh3.googleusercontent.com/a/default-user=s128",
            "userId": "103507511977375243246"
          }
        }
      },
      "cell_type": "code",
      "source": [
        "os.environ['DATAFLOW_OUTPUT_DIR'] = 'data_flow_output_dir-{}/'.format(\n",
        "    current_time)\n",
        "!echo $DATAFLOW_OUTPUT_DIR"
      ],
      "execution_count": 9,
      "outputs": [
        {
          "output_type": "stream",
          "text": [
            "data_flow_output_dir-152286339827/\r\n"
          ],
          "name": "stdout"
        }
      ]
    },
    {
      "metadata": {
        "id": "cH51ynx11lA2",
        "colab_type": "text"
      },
      "cell_type": "markdown",
      "source": [
        "**Note: depending on your configuration, you may need to install missing python packages**"
      ]
    },
    {
      "metadata": {
        "id": "chJbiUOX1MmM",
        "colab_type": "code",
        "colab": {
          "autoexec": {
            "startup": false,
            "wait_interval": 0
          },
          "base_uri": "https://localhost:8080/",
          "height": 1312
        },
        "outputId": "3f71c8d1-a142-435b-8ef8-414324eac915",
        "executionInfo": {
          "status": "ok",
          "timestamp": 1522863409699,
          "user_tz": 240,
          "elapsed": 5284,
          "user": {
            "displayName": "Arthur Argenson",
            "photoUrl": "https://lh3.googleusercontent.com/a/default-user=s128",
            "userId": "103507511977375243246"
          }
        }
      },
      "cell_type": "code",
      "source": [
        "!pip install apache_beam==2.4.0\n",
        "!pip install tensorflow-transform==0.4.0"
      ],
      "execution_count": 10,
      "outputs": [
        {
          "output_type": "stream",
          "text": [
            "Requirement already satisfied: apache_beam==2.4.0 in /usr/local/lib/python2.7/dist-packages\n",
            "Requirement already satisfied: dill==0.2.6 in /usr/local/lib/python2.7/dist-packages (from apache_beam==2.4.0)\n",
            "Requirement already satisfied: pyyaml<4.0.0,>=3.12 in /usr/local/lib/python2.7/dist-packages (from apache_beam==2.4.0)\n",
            "Requirement already satisfied: futures<4.0.0,>=3.1.1 in /usr/local/lib/python2.7/dist-packages (from apache_beam==2.4.0)\n",
            "Requirement already satisfied: hdfs<3.0.0,>=2.1.0 in /usr/local/lib/python2.7/dist-packages (from apache_beam==2.4.0)\n",
            "Requirement already satisfied: pyvcf<0.7.0,>=0.6.8 in /usr/local/lib/python2.7/dist-packages (from apache_beam==2.4.0)\n",
            "Requirement already satisfied: httplib2<0.10,>=0.8 in /usr/local/lib/python2.7/dist-packages (from apache_beam==2.4.0)\n",
            "Requirement already satisfied: avro<2.0.0,>=1.8.1 in /usr/local/lib/python2.7/dist-packages (from apache_beam==2.4.0)\n",
            "Requirement already satisfied: mock<3.0.0,>=1.0.1 in /usr/local/lib/python2.7/dist-packages (from apache_beam==2.4.0)\n",
            "Requirement already satisfied: typing<3.7.0,>=3.6.0 in /usr/local/lib/python2.7/dist-packages (from apache_beam==2.4.0)\n",
            "Requirement already satisfied: grpcio<2,>=1.0 in /usr/local/lib/python2.7/dist-packages (from apache_beam==2.4.0)\n",
            "Requirement already satisfied: six<1.12,>=1.9 in /usr/local/lib/python2.7/dist-packages (from apache_beam==2.4.0)\n",
            "Requirement already satisfied: protobuf<4,>=3.5.0.post1 in /usr/local/lib/python2.7/dist-packages (from apache_beam==2.4.0)\n",
            "Requirement already satisfied: oauth2client<5,>=2.0.1 in /usr/local/lib/python2.7/dist-packages (from apache_beam==2.4.0)\n",
            "Requirement already satisfied: crcmod<2.0,>=1.7 in /usr/local/lib/python2.7/dist-packages (from apache_beam==2.4.0)\n",
            "Requirement already satisfied: docopt in /usr/local/lib/python2.7/dist-packages (from hdfs<3.0.0,>=2.1.0->apache_beam==2.4.0)\n",
            "Requirement already satisfied: requests>=2.7.0 in /usr/local/lib/python2.7/dist-packages (from hdfs<3.0.0,>=2.1.0->apache_beam==2.4.0)\n",
            "Requirement already satisfied: setuptools in /usr/local/lib/python2.7/dist-packages (from pyvcf<0.7.0,>=0.6.8->apache_beam==2.4.0)\n",
            "Requirement already satisfied: funcsigs>=1; python_version < \"3.3\" in /usr/local/lib/python2.7/dist-packages (from mock<3.0.0,>=1.0.1->apache_beam==2.4.0)\n",
            "Requirement already satisfied: pbr>=0.11 in /usr/local/lib/python2.7/dist-packages (from mock<3.0.0,>=1.0.1->apache_beam==2.4.0)\n",
            "Requirement already satisfied: enum34>=1.0.4 in /usr/local/lib/python2.7/dist-packages (from grpcio<2,>=1.0->apache_beam==2.4.0)\n",
            "Requirement already satisfied: rsa>=3.1.4 in /usr/local/lib/python2.7/dist-packages (from oauth2client<5,>=2.0.1->apache_beam==2.4.0)\n",
            "Requirement already satisfied: pyasn1>=0.1.7 in /usr/local/lib/python2.7/dist-packages (from oauth2client<5,>=2.0.1->apache_beam==2.4.0)\n",
            "Requirement already satisfied: pyasn1-modules>=0.0.5 in /usr/local/lib/python2.7/dist-packages (from oauth2client<5,>=2.0.1->apache_beam==2.4.0)\n",
            "Requirement already satisfied: idna<2.7,>=2.5 in /usr/local/lib/python2.7/dist-packages (from requests>=2.7.0->hdfs<3.0.0,>=2.1.0->apache_beam==2.4.0)\n",
            "Requirement already satisfied: urllib3<1.23,>=1.21.1 in /usr/local/lib/python2.7/dist-packages (from requests>=2.7.0->hdfs<3.0.0,>=2.1.0->apache_beam==2.4.0)\n",
            "Requirement already satisfied: certifi>=2017.4.17 in /usr/local/lib/python2.7/dist-packages (from requests>=2.7.0->hdfs<3.0.0,>=2.1.0->apache_beam==2.4.0)\n",
            "Requirement already satisfied: chardet<3.1.0,>=3.0.2 in /usr/local/lib/python2.7/dist-packages (from requests>=2.7.0->hdfs<3.0.0,>=2.1.0->apache_beam==2.4.0)\n",
            "Requirement already satisfied: tensorflow-transform==0.4.0 in /usr/local/lib/python2.7/dist-packages\n",
            "Requirement already satisfied: six<1.11,>=1.9 in /usr/local/lib/python2.7/dist-packages (from tensorflow-transform==0.4.0)\n",
            "Requirement already satisfied: apache-beam[gcp]<3,>=2.2 in /usr/local/lib/python2.7/dist-packages (from tensorflow-transform==0.4.0)\n",
            "Requirement already satisfied: protobuf<4,>=3.3 in /usr/local/lib/python2.7/dist-packages (from tensorflow-transform==0.4.0)\n",
            "Requirement already satisfied: dill==0.2.6 in /usr/local/lib/python2.7/dist-packages (from apache-beam[gcp]<3,>=2.2->tensorflow-transform==0.4.0)\n",
            "Requirement already satisfied: pyyaml<4.0.0,>=3.12 in /usr/local/lib/python2.7/dist-packages (from apache-beam[gcp]<3,>=2.2->tensorflow-transform==0.4.0)\n",
            "Requirement already satisfied: futures<4.0.0,>=3.1.1 in /usr/local/lib/python2.7/dist-packages (from apache-beam[gcp]<3,>=2.2->tensorflow-transform==0.4.0)\n",
            "Requirement already satisfied: hdfs<3.0.0,>=2.1.0 in /usr/local/lib/python2.7/dist-packages (from apache-beam[gcp]<3,>=2.2->tensorflow-transform==0.4.0)\n",
            "Requirement already satisfied: pyvcf<0.7.0,>=0.6.8 in /usr/local/lib/python2.7/dist-packages (from apache-beam[gcp]<3,>=2.2->tensorflow-transform==0.4.0)\n",
            "Requirement already satisfied: grpcio<2,>=1.0 in /usr/local/lib/python2.7/dist-packages (from apache-beam[gcp]<3,>=2.2->tensorflow-transform==0.4.0)\n",
            "Requirement already satisfied: avro<2.0.0,>=1.8.1 in /usr/local/lib/python2.7/dist-packages (from apache-beam[gcp]<3,>=2.2->tensorflow-transform==0.4.0)\n",
            "Requirement already satisfied: mock<3.0.0,>=1.0.1 in /usr/local/lib/python2.7/dist-packages (from apache-beam[gcp]<3,>=2.2->tensorflow-transform==0.4.0)\n",
            "Requirement already satisfied: typing<3.7.0,>=3.6.0 in /usr/local/lib/python2.7/dist-packages (from apache-beam[gcp]<3,>=2.2->tensorflow-transform==0.4.0)\n",
            "Requirement already satisfied: httplib2<0.10,>=0.8 in /usr/local/lib/python2.7/dist-packages (from apache-beam[gcp]<3,>=2.2->tensorflow-transform==0.4.0)\n",
            "Requirement already satisfied: oauth2client<5,>=2.0.1 in /usr/local/lib/python2.7/dist-packages (from apache-beam[gcp]<3,>=2.2->tensorflow-transform==0.4.0)\n",
            "Requirement already satisfied: crcmod<2.0,>=1.7 in /usr/local/lib/python2.7/dist-packages (from apache-beam[gcp]<3,>=2.2->tensorflow-transform==0.4.0)\n",
            "Requirement already satisfied: google-apitools<=0.5.20,>=0.5.18; extra == \"gcp\" in /usr/local/lib/python2.7/dist-packages (from apache-beam[gcp]<3,>=2.2->tensorflow-transform==0.4.0)\n",
            "Requirement already satisfied: google-cloud-bigquery==0.25.0; extra == \"gcp\" in /usr/local/lib/python2.7/dist-packages (from apache-beam[gcp]<3,>=2.2->tensorflow-transform==0.4.0)\n",
            "Requirement already satisfied: google-cloud-pubsub==0.26.0; extra == \"gcp\" in /usr/local/lib/python2.7/dist-packages (from apache-beam[gcp]<3,>=2.2->tensorflow-transform==0.4.0)\n",
            "Requirement already satisfied: proto-google-cloud-datastore-v1<=0.90.4,>=0.90.0; extra == \"gcp\" in /usr/local/lib/python2.7/dist-packages (from apache-beam[gcp]<3,>=2.2->tensorflow-transform==0.4.0)\n",
            "Requirement already satisfied: googledatastore==7.0.1; extra == \"gcp\" in /usr/local/lib/python2.7/dist-packages (from apache-beam[gcp]<3,>=2.2->tensorflow-transform==0.4.0)\n",
            "Requirement already satisfied: setuptools in /usr/local/lib/python2.7/dist-packages (from protobuf<4,>=3.3->tensorflow-transform==0.4.0)\n",
            "Requirement already satisfied: docopt in /usr/local/lib/python2.7/dist-packages (from hdfs<3.0.0,>=2.1.0->apache-beam[gcp]<3,>=2.2->tensorflow-transform==0.4.0)\n",
            "Requirement already satisfied: requests>=2.7.0 in /usr/local/lib/python2.7/dist-packages (from hdfs<3.0.0,>=2.1.0->apache-beam[gcp]<3,>=2.2->tensorflow-transform==0.4.0)\n",
            "Requirement already satisfied: enum34>=1.0.4 in /usr/local/lib/python2.7/dist-packages (from grpcio<2,>=1.0->apache-beam[gcp]<3,>=2.2->tensorflow-transform==0.4.0)\n",
            "Requirement already satisfied: funcsigs>=1; python_version < \"3.3\" in /usr/local/lib/python2.7/dist-packages (from mock<3.0.0,>=1.0.1->apache-beam[gcp]<3,>=2.2->tensorflow-transform==0.4.0)\n",
            "Requirement already satisfied: pbr>=0.11 in /usr/local/lib/python2.7/dist-packages (from mock<3.0.0,>=1.0.1->apache-beam[gcp]<3,>=2.2->tensorflow-transform==0.4.0)\n",
            "Requirement already satisfied: rsa>=3.1.4 in /usr/local/lib/python2.7/dist-packages (from oauth2client<5,>=2.0.1->apache-beam[gcp]<3,>=2.2->tensorflow-transform==0.4.0)\n",
            "Requirement already satisfied: pyasn1>=0.1.7 in /usr/local/lib/python2.7/dist-packages (from oauth2client<5,>=2.0.1->apache-beam[gcp]<3,>=2.2->tensorflow-transform==0.4.0)\n",
            "Requirement already satisfied: pyasn1-modules>=0.0.5 in /usr/local/lib/python2.7/dist-packages (from oauth2client<5,>=2.0.1->apache-beam[gcp]<3,>=2.2->tensorflow-transform==0.4.0)\n",
            "Requirement already satisfied: fasteners>=0.14 in /usr/local/lib/python2.7/dist-packages (from google-apitools<=0.5.20,>=0.5.18; extra == \"gcp\"->apache-beam[gcp]<3,>=2.2->tensorflow-transform==0.4.0)\n",
            "Requirement already satisfied: google-cloud-core<0.26dev,>=0.25.0 in /usr/local/lib/python2.7/dist-packages (from google-cloud-bigquery==0.25.0; extra == \"gcp\"->apache-beam[gcp]<3,>=2.2->tensorflow-transform==0.4.0)\n",
            "Requirement already satisfied: gapic-google-cloud-pubsub-v1<0.16dev,>=0.15.0 in /usr/local/lib/python2.7/dist-packages (from google-cloud-pubsub==0.26.0; extra == \"gcp\"->apache-beam[gcp]<3,>=2.2->tensorflow-transform==0.4.0)\n",
            "Requirement already satisfied: googleapis-common-protos<2.0dev,>=1.5.2 in /usr/local/lib/python2.7/dist-packages (from proto-google-cloud-datastore-v1<=0.90.4,>=0.90.0; extra == \"gcp\"->apache-beam[gcp]<3,>=2.2->tensorflow-transform==0.4.0)\n",
            "Requirement already satisfied: idna<2.7,>=2.5 in /usr/local/lib/python2.7/dist-packages (from requests>=2.7.0->hdfs<3.0.0,>=2.1.0->apache-beam[gcp]<3,>=2.2->tensorflow-transform==0.4.0)\n",
            "Requirement already satisfied: urllib3<1.23,>=1.21.1 in /usr/local/lib/python2.7/dist-packages (from requests>=2.7.0->hdfs<3.0.0,>=2.1.0->apache-beam[gcp]<3,>=2.2->tensorflow-transform==0.4.0)\n",
            "Requirement already satisfied: certifi>=2017.4.17 in /usr/local/lib/python2.7/dist-packages (from requests>=2.7.0->hdfs<3.0.0,>=2.1.0->apache-beam[gcp]<3,>=2.2->tensorflow-transform==0.4.0)\n",
            "Requirement already satisfied: chardet<3.1.0,>=3.0.2 in /usr/local/lib/python2.7/dist-packages (from requests>=2.7.0->hdfs<3.0.0,>=2.1.0->apache-beam[gcp]<3,>=2.2->tensorflow-transform==0.4.0)\n",
            "Requirement already satisfied: monotonic>=0.1 in /usr/local/lib/python2.7/dist-packages (from fasteners>=0.14->google-apitools<=0.5.20,>=0.5.18; extra == \"gcp\"->apache-beam[gcp]<3,>=2.2->tensorflow-transform==0.4.0)\n",
            "Requirement already satisfied: google-auth-httplib2 in /usr/local/lib/python2.7/dist-packages (from google-cloud-core<0.26dev,>=0.25.0->google-cloud-bigquery==0.25.0; extra == \"gcp\"->apache-beam[gcp]<3,>=2.2->tensorflow-transform==0.4.0)\n",
            "Requirement already satisfied: google-auth<2.0.0dev,>=0.4.0 in /usr/local/lib/python2.7/dist-packages (from google-cloud-core<0.26dev,>=0.25.0->google-cloud-bigquery==0.25.0; extra == \"gcp\"->apache-beam[gcp]<3,>=2.2->tensorflow-transform==0.4.0)\n",
            "Requirement already satisfied: grpc-google-iam-v1<0.12dev,>=0.11.1 in /usr/local/lib/python2.7/dist-packages (from gapic-google-cloud-pubsub-v1<0.16dev,>=0.15.0->google-cloud-pubsub==0.26.0; extra == \"gcp\"->apache-beam[gcp]<3,>=2.2->tensorflow-transform==0.4.0)\n",
            "Requirement already satisfied: proto-google-cloud-pubsub-v1[grpc]<0.16dev,>=0.15.4 in /usr/local/lib/python2.7/dist-packages (from gapic-google-cloud-pubsub-v1<0.16dev,>=0.15.0->google-cloud-pubsub==0.26.0; extra == \"gcp\"->apache-beam[gcp]<3,>=2.2->tensorflow-transform==0.4.0)\n",
            "Requirement already satisfied: google-gax<0.16dev,>=0.15.7 in /usr/local/lib/python2.7/dist-packages (from gapic-google-cloud-pubsub-v1<0.16dev,>=0.15.0->google-cloud-pubsub==0.26.0; extra == \"gcp\"->apache-beam[gcp]<3,>=2.2->tensorflow-transform==0.4.0)\n",
            "Requirement already satisfied: cachetools>=2.0.0 in /usr/local/lib/python2.7/dist-packages (from google-auth<2.0.0dev,>=0.4.0->google-cloud-core<0.26dev,>=0.25.0->google-cloud-bigquery==0.25.0; extra == \"gcp\"->apache-beam[gcp]<3,>=2.2->tensorflow-transform==0.4.0)\n",
            "Requirement already satisfied: ply==3.8 in /usr/local/lib/python2.7/dist-packages (from google-gax<0.16dev,>=0.15.7->gapic-google-cloud-pubsub-v1<0.16dev,>=0.15.0->google-cloud-pubsub==0.26.0; extra == \"gcp\"->apache-beam[gcp]<3,>=2.2->tensorflow-transform==0.4.0)\n",
            "Requirement already satisfied: future<0.17dev,>=0.16.0 in /usr/local/lib/python2.7/dist-packages (from google-gax<0.16dev,>=0.15.7->gapic-google-cloud-pubsub-v1<0.16dev,>=0.15.0->google-cloud-pubsub==0.26.0; extra == \"gcp\"->apache-beam[gcp]<3,>=2.2->tensorflow-transform==0.4.0)\n"
          ],
          "name": "stdout"
        }
      ]
    },
    {
      "metadata": {
        "id": "D7oQpxe6XtEY",
        "colab_type": "text"
      },
      "cell_type": "markdown",
      "source": [
        "**Launch data processing job**\n",
        "\n",
        "You need to specify the name of the table you stored in BigQuery and input it with the '--bq_table' argument."
      ]
    },
    {
      "metadata": {
        "id": "OtR1QeB4T3NX",
        "colab_type": "code",
        "colab": {
          "autoexec": {
            "startup": false,
            "wait_interval": 0
          },
          "base_uri": "https://localhost:8080/",
          "height": 836
        },
        "outputId": "07209d70-97fe-4f62-b043-0fba84aa6534",
        "executionInfo": {
          "status": "ok",
          "timestamp": 1522864510544,
          "user_tz": 240,
          "elapsed": 1100804,
          "user": {
            "displayName": "Arthur Argenson",
            "photoUrl": "https://lh3.googleusercontent.com/a/default-user=s128",
            "userId": "103507511977375243246"
          }
        }
      },
      "cell_type": "code",
      "source": [
        "%%bash\n",
        "cd fraud-detection/\n",
        "python preprocess.py \\\n",
        "--cloud \\\n",
        "--bq_table $BQ_TABLE_NAME \\\n",
        "--output_dir ${DATAFLOW_OUTPUT_DIR} \\\n",
        "--project_id $PROJECT_ID \\\n",
        "--bucket_id $BUCKET_ID"
      ],
      "execution_count": 11,
      "outputs": [
        {
          "output_type": "stream",
          "text": [
            "running sdist\n",
            "running egg_info\n",
            "writing requirements to trainer.egg-info/requires.txt\n",
            "writing trainer.egg-info/PKG-INFO\n",
            "writing top-level names to trainer.egg-info/top_level.txt\n",
            "writing dependency_links to trainer.egg-info/dependency_links.txt\n",
            "reading manifest file 'trainer.egg-info/SOURCES.txt'\n",
            "writing manifest file 'trainer.egg-info/SOURCES.txt'\n",
            "running check\n",
            "creating trainer-1.0\n",
            "creating trainer-1.0/constants\n",
            "creating trainer-1.0/trainer\n",
            "creating trainer-1.0/trainer.egg-info\n",
            "creating trainer-1.0/utils\n",
            "copying files to trainer-1.0...\n",
            "copying setup.py -> trainer-1.0\n",
            "copying constants/__init__.py -> trainer-1.0/constants\n",
            "copying constants/constants.py -> trainer-1.0/constants\n",
            "copying trainer/__init__.py -> trainer-1.0/trainer\n",
            "copying trainer/input_fn_utils.py -> trainer-1.0/trainer\n",
            "copying trainer/metrics.py -> trainer-1.0/trainer\n",
            "copying trainer/model.py -> trainer-1.0/trainer\n",
            "copying trainer/task.py -> trainer-1.0/trainer\n",
            "copying trainer.egg-info/PKG-INFO -> trainer-1.0/trainer.egg-info\n",
            "copying trainer.egg-info/SOURCES.txt -> trainer-1.0/trainer.egg-info\n",
            "copying trainer.egg-info/dependency_links.txt -> trainer-1.0/trainer.egg-info\n",
            "copying trainer.egg-info/requires.txt -> trainer-1.0/trainer.egg-info\n",
            "copying trainer.egg-info/top_level.txt -> trainer-1.0/trainer.egg-info\n",
            "copying utils/__init__.py -> trainer-1.0/utils\n",
            "copying utils/datasettype.py -> trainer-1.0/utils\n",
            "Writing trainer-1.0/setup.cfg\n",
            "Creating tar archive\n",
            "removing 'trainer-1.0' (and everything under it)\n",
            "Collecting apache-beam==2.4.0\n",
            "  Using cached apache-beam-2.4.0.zip\n",
            "  Saved /tmp/tmpvJQ3P6/apache-beam-2.4.0.zip\n",
            "Successfully downloaded apache-beam\n"
          ],
          "name": "stdout"
        },
        {
          "output_type": "stream",
          "text": [
            "/usr/local/lib/python2.7/dist-packages/h5py/__init__.py:36: FutureWarning: Conversion of the second argument of issubdtype from `float` to `np.floating` is deprecated. In future, it will be treated as `np.float64 == np.dtype(float).type`.\n",
            "  from ._conv import register_converters as _register_converters\n",
            "warning: sdist: standard file not found: should have one of README, README.rst, README.txt, README.md\n",
            "\n",
            "warning: check: missing required meta-data: url\n",
            "\n",
            "warning: check: missing meta-data: either (author and author_email) or (maintainer and maintainer_email) must be supplied\n",
            "\n",
            "/usr/local/lib/python2.7/dist-packages/apache_beam/io/gcp/gcsio.py:166: DeprecationWarning: object() takes no parameters\n",
            "  super(GcsIO, cls).__new__(cls, storage_client))\n"
          ],
          "name": "stderr"
        }
      ]
    },
    {
      "metadata": {
        "id": "BPoZbDLZXtEe",
        "colab_type": "text"
      },
      "cell_type": "markdown",
      "source": [
        "<h1>3. Training in Google Cloud ML-engine</h1>"
      ]
    },
    {
      "metadata": {
        "id": "M4-DIMWBXtEf",
        "colab_type": "text"
      },
      "cell_type": "markdown",
      "source": [
        "**Set up environment variables**\n",
        "\n",
        "Hard-code the output path for the training sep as well as the job name, to be used in the following steps."
      ]
    },
    {
      "metadata": {
        "id": "EsSTt2nsXtEf",
        "colab_type": "code",
        "colab": {
          "autoexec": {
            "startup": false,
            "wait_interval": 0
          },
          "base_uri": "https://localhost:8080/",
          "height": 34
        },
        "outputId": "af3e1fd6-a988-4cd5-f8ba-e201b4dd5932",
        "executionInfo": {
          "status": "ok",
          "timestamp": 1522866072568,
          "user_tz": 240,
          "elapsed": 351,
          "user": {
            "displayName": "Arthur Argenson",
            "photoUrl": "https://lh3.googleusercontent.com/a/default-user=s128",
            "userId": "103507511977375243246"
          }
        }
      },
      "cell_type": "code",
      "source": [
        "os.environ['TRAINING_JOB_NAME'] = 'fraud_detection_training_job_{}'.format(\n",
        "    current_time)\n",
        "os.environ['TRAINING_OUTPUT_DIR'] = 'gs://{}/training_output_dir-{}'.format(\n",
        "    os.environ['BUCKET_ID'], current_time)\n",
        "print os.environ['TRAINING_JOB_NAME'], os.environ['TRAINING_OUTPUT_DIR']"
      ],
      "execution_count": 12,
      "outputs": [
        {
          "output_type": "stream",
          "text": [
            "aarg_fraud_detection_training_job_152286339827 gs://fraud-detection-example/training_output_dir-152286339827\n"
          ],
          "name": "stdout"
        }
      ]
    },
    {
      "metadata": {
        "id": "2-FeHT3EXtEi",
        "colab_type": "text"
      },
      "cell_type": "markdown",
      "source": [
        "**Set hyperparameters search configuration**\n",
        "\n",
        "The training step includes hyperparameter tuning. Hyperparameter tuning (described in more details here: https://cloud.google.com/blog/big-data/2018/03/hyperparameter-tuning-on-google-cloud-platform-is-now-faster-and-smarter) is the concept of training and evaluating different parametrizations of a model to then pick the best performing one.\n",
        "For this purpose we need to indicate which parameters we want to test and the range we want to try.\n",
        "\n",
        "The ML-engine command takes in input a '.yaml' file that contains the configuration to use for hyperparameter tuning."
      ]
    },
    {
      "metadata": {
        "id": "9u6UFS9xXtEj",
        "colab_type": "code",
        "colab": {
          "autoexec": {
            "startup": false,
            "wait_interval": 0
          },
          "base_uri": "https://localhost:8080/",
          "height": 34
        },
        "outputId": "fa3dec7b-f5ac-42b9-a4bd-31139c0563d7",
        "executionInfo": {
          "status": "ok",
          "timestamp": 1522866075276,
          "user_tz": 240,
          "elapsed": 373,
          "user": {
            "displayName": "Arthur Argenson",
            "photoUrl": "https://lh3.googleusercontent.com/a/default-user=s128",
            "userId": "103507511977375243246"
          }
        }
      },
      "cell_type": "code",
      "source": [
        "%%writefile fraud-detection/hyperparams.yaml\n",
        "trainingInput:\n",
        "  scaleTier: STANDARD_1\n",
        "  hyperparameters:\n",
        "    maxTrials: 10\n",
        "    maxParallelTrials: 2\n",
        "    enableTrialEarlyStopping: True\n",
        "    goal: MAXIMIZE\n",
        "    hyperparameterMetricTag: auc_precision_recall\n",
        "    params:\n",
        "    - parameterName: first_layer_size\n",
        "      type: INTEGER\n",
        "      minValue: 5\n",
        "      maxValue: 50\n",
        "      scaleType: UNIT_LINEAR_SCALE\n",
        "    - parameterName: num_layers\n",
        "      type: INTEGER\n",
        "      discreteValues:\n",
        "      minValue: 1\n",
        "      maxValue: 2\n",
        "      scaleType: UNIT_LINEAR_SCALE\n",
        "    - parameterName: dropout\n",
        "      type: DOUBLE\n",
        "      minValue: 0.10\n",
        "      maxValue: 0.50\n",
        "      scaleType: UNIT_LINEAR_SCALE\n",
        "    - parameterName: learning_rate\n",
        "      type: DOUBLE\n",
        "      minValue: 0.0001\n",
        "      maxValue: 0.1\n",
        "      scaleType: UNIT_LOG_SCALE"
      ],
      "execution_count": 13,
      "outputs": [
        {
          "output_type": "stream",
          "text": [
            "Overwriting fraud-detection/hyperparams.yaml\n"
          ],
          "name": "stdout"
        }
      ]
    },
    {
      "metadata": {
        "id": "gOUlmoKXXtEl",
        "colab_type": "text"
      },
      "cell_type": "markdown",
      "source": [
        "**Submit training job**\n",
        "\n",
        "You can specify the maximum number of training steps with the '--max_steps' argument."
      ]
    },
    {
      "metadata": {
        "id": "e3KKI8ZaXtEn",
        "colab_type": "code",
        "colab": {
          "autoexec": {
            "startup": false,
            "wait_interval": 0
          },
          "base_uri": "https://localhost:8080/",
          "height": 187
        },
        "outputId": "8be59ac1-190c-461d-b83b-87b2cca24077",
        "executionInfo": {
          "status": "ok",
          "timestamp": 1522866146375,
          "user_tz": 240,
          "elapsed": 3227,
          "user": {
            "displayName": "Arthur Argenson",
            "photoUrl": "https://lh3.googleusercontent.com/a/default-user=s128",
            "userId": "103507511977375243246"
          }
        }
      },
      "cell_type": "code",
      "source": [
        "%%bash\n",
        "cd fraud-detection/\n",
        "gcloud ml-engine jobs submit training $TRAINING_JOB_NAME \\\n",
        "--module-name trainer.task \\\n",
        "--staging-bucket gs://${BUCKET_ID} \\\n",
        "--package-path ./trainer \\\n",
        "--region=us-central1 \\\n",
        "--runtime-version 1.4 \\\n",
        "--config=hyperparams.yaml \\\n",
        "-- \\\n",
        "--input_dir gs://${BUCKET_ID}/${DATAFLOW_OUTPUT_DIR} \\\n",
        "--output_dir ${TRAINING_OUTPUT_DIR} \\\n",
        "--max_steps 10000"
      ],
      "execution_count": 16,
      "outputs": [
        {
          "output_type": "stream",
          "text": [
            "jobId: aarg_fraud_detection_training_job_152286339827\n",
            "state: QUEUED\n"
          ],
          "name": "stdout"
        },
        {
          "output_type": "stream",
          "text": [
            "Job [aarg_fraud_detection_training_job_152286339827] submitted successfully.\n",
            "Your job is still active. You may view the status of your job with the command\n",
            "\n",
            "  $ gcloud ml-engine jobs describe aarg_fraud_detection_training_job_152286339827\n",
            "\n",
            "or continue streaming the logs with the command\n",
            "\n",
            "  $ gcloud ml-engine jobs stream-logs aarg_fraud_detection_training_job_152286339827\n"
          ],
          "name": "stderr"
        }
      ]
    },
    {
      "metadata": {
        "id": "_Qwdf7W8XtEr",
        "colab_type": "text"
      },
      "cell_type": "markdown",
      "source": [
        "**Monitor with Tensorboard**\n",
        "\n",
        "You can monitor in real-time the training of each model using Tensorboard. It allows to visualize different metrics such as the loss on the training and validation data.\n",
        "\n",
        "In addition you can visualize the following validation metrics to assess the evolution of your model's performances through training:\n",
        "- ROC AUC\n",
        "- Precision-recall AUC\n",
        "- Accuracy\n",
        "- Other custom metrics"
      ]
    },
    {
      "metadata": {
        "id": "c5Q2zQL1BmAg",
        "colab_type": "text"
      },
      "cell_type": "markdown",
      "source": [
        "**Select which trial to visualize**\n",
        "\n",
        "Here 1"
      ]
    },
    {
      "metadata": {
        "id": "uu9smP1hAipe",
        "colab_type": "code",
        "colab": {
          "autoexec": {
            "startup": false,
            "wait_interval": 0
          },
          "base_uri": "https://localhost:8080/",
          "height": 34
        },
        "outputId": "3dc26e1e-4a4b-46a6-89c1-5953c41b03bf",
        "executionInfo": {
          "status": "ok",
          "timestamp": 1522868362345,
          "user_tz": 240,
          "elapsed": 436,
          "user": {
            "displayName": "Arthur Argenson",
            "photoUrl": "https://lh3.googleusercontent.com/a/default-user=s128",
            "userId": "103507511977375243246"
          }
        }
      },
      "cell_type": "code",
      "source": [
        "%env TRIAL_NUMBER=1"
      ],
      "execution_count": 24,
      "outputs": [
        {
          "output_type": "stream",
          "text": [
            "env: TRIAL_NUMBER=1\n"
          ],
          "name": "stdout"
        }
      ]
    },
    {
      "metadata": {
        "id": "0ZYA8ZOpATIM",
        "colab_type": "text"
      },
      "cell_type": "markdown",
      "source": [
        "**Run the following command on your local machine:**\n",
        "```TRIAL_NUMBER=1\n",
        "tensorboard --logdir=<TRAINING_OUTPUT_DIR>/trials/$TRIAL_NUMBER\n",
        "```\n",
        "Replace ```<TRAINING_OUTPUT_DIR>``` with the actual training output path. You can copy the output of the following cell:\n"
      ]
    },
    {
      "metadata": {
        "id": "02FiUNhSBRet",
        "colab_type": "code",
        "colab": {
          "autoexec": {
            "startup": false,
            "wait_interval": 0
          },
          "base_uri": "https://localhost:8080/",
          "height": 34
        },
        "outputId": "66d5328e-d43c-4d56-a853-1bcac1520398",
        "executionInfo": {
          "status": "ok",
          "timestamp": 1522868366318,
          "user_tz": 240,
          "elapsed": 1371,
          "user": {
            "displayName": "Arthur Argenson",
            "photoUrl": "https://lh3.googleusercontent.com/a/default-user=s128",
            "userId": "103507511977375243246"
          }
        }
      },
      "cell_type": "code",
      "source": [
        "! echo tensorboard --logdir=$TRAINING_OUTPUT_DIR/trials/$TRIAL_NUMBER"
      ],
      "execution_count": 25,
      "outputs": [
        {
          "output_type": "stream",
          "text": [
            "tensorboard --logdir=gs://fraud-detection-example/training_output_dir-152286339827/trials/1\r\n"
          ],
          "name": "stdout"
        }
      ]
    },
    {
      "metadata": {
        "id": "m55zdrd7XtEu",
        "colab_type": "text"
      },
      "cell_type": "markdown",
      "source": [
        "**Monitor overall training in Google Cloud ML-engine**\n",
        "\n",
        "You can also monitor the overall training in GCP, access the logs and results of hyperparameter tuning in the ML-engine console:\n",
        "\n",
        "https://cloud.google.com/ml-engine/"
      ]
    },
    {
      "metadata": {
        "id": "wJKwdX1BXtEv",
        "colab_type": "text"
      },
      "cell_type": "markdown",
      "source": [
        "<h1>4. Inferences in Google Cloud ML-engine</h1>"
      ]
    },
    {
      "metadata": {
        "id": "YHE6pzkhXtEv",
        "colab_type": "text"
      },
      "cell_type": "markdown",
      "source": [
        "Once our model is trained and stored in Google Cloud Storage, we can add it to Cloud ML-engine and use it for batch inference on new data, among other things.\n",
        "Different versions of a same model can be stored in the ML-engine. We will specify a name for the model and a unique name for the current version, based on current timestamp."
      ]
    },
    {
      "metadata": {
        "id": "OfgazJtMe5At",
        "colab_type": "text"
      },
      "cell_type": "markdown",
      "source": [
        "**Specify the best model trial to use**\n",
        "\n",
        "After hyperparameter tuning we may have to pick between different trials and select the best performing one to use for inference. The next command defines which version to use moving forward. In this example the trial picked is 'TRIAL_NUMBER=1' but **you should adapt to pick the best performing model that you obtained after training.**"
      ]
    },
    {
      "metadata": {
        "id": "k1IPrVQ2fh0J",
        "colab_type": "code",
        "colab": {
          "autoexec": {
            "startup": false,
            "wait_interval": 0
          },
          "base_uri": "https://localhost:8080/",
          "height": 34
        },
        "outputId": "6c6eb646-2601-411b-ec6b-c342cb8805b2",
        "executionInfo": {
          "status": "ok",
          "timestamp": 1522892944080,
          "user_tz": 240,
          "elapsed": 408,
          "user": {
            "displayName": "Arthur Argenson",
            "photoUrl": "https://lh3.googleusercontent.com/a/default-user=s128",
            "userId": "103507511977375243246"
          }
        }
      },
      "cell_type": "code",
      "source": [
        "%env TRIAL_NUMBER=1"
      ],
      "execution_count": 1,
      "outputs": [
        {
          "output_type": "stream",
          "text": [
            "env: TRIAL_NUMBER=7\n"
          ],
          "name": "stdout"
        }
      ]
    },
    {
      "metadata": {
        "id": "QGkxEg4MXtEv",
        "colab_type": "text"
      },
      "cell_type": "markdown",
      "source": [
        "**Set up environment variables**"
      ]
    },
    {
      "metadata": {
        "id": "wKg3XVP8XtEw",
        "colab_type": "code",
        "colab": {
          "autoexec": {
            "startup": false,
            "wait_interval": 0
          },
          "base_uri": "https://localhost:8080/",
          "height": 51
        },
        "outputId": "9a3361de-94aa-43fe-e53e-05391f0f8198",
        "executionInfo": {
          "status": "ok",
          "timestamp": 1522871817231,
          "user_tz": 240,
          "elapsed": 3694,
          "user": {
            "displayName": "Arthur Argenson",
            "photoUrl": "https://lh3.googleusercontent.com/a/default-user=s128",
            "userId": "103507511977375243246"
          }
        }
      },
      "cell_type": "code",
      "source": [
        "os.environ['MODEL_NAME'] = 'fraud_detection_test_nb'\n",
        "os.environ['MODEL_VERSION'] = 'v_{}'.format(time.time()).replace('.', '')\n",
        "temp = !echo $(gsutil ls ${TRAINING_OUTPUT_DIR}/trials/${TRIAL_NUMBER}/export/exporter/ | tail -1)\n",
        "os.environ['MODEL_SAVED_NAME'] = temp[0]\n",
        "del temp\n",
        "print os.environ['MODEL_SAVED_NAME']"
      ],
      "execution_count": 42,
      "outputs": [
        {
          "output_type": "stream",
          "text": [
            "env: TRIAL_NUMBER=7\n",
            "gs://fraud-detection-example/training_output_dir-152286339827/trials/7/export/exporter/1522868643/\n"
          ],
          "name": "stdout"
        }
      ]
    },
    {
      "metadata": {
        "id": "LBIx7-5NXtEy",
        "colab_type": "text"
      },
      "cell_type": "markdown",
      "source": [
        "**Create and save model in Google Cloud ML-engine**\n",
        "\n",
        "We first need to add our trained model to Cloud ML-engine. We provide the path to the model we would like to use in Google Cloud Storage.."
      ]
    },
    {
      "metadata": {
        "id": "tx2OIvHyOe2_",
        "colab_type": "code",
        "colab": {
          "autoexec": {
            "startup": false,
            "wait_interval": 0
          },
          "base_uri": "https://localhost:8080/",
          "height": 122
        },
        "outputId": "2b0f774e-ec16-41c0-df8a-aead26d3a1da",
        "executionInfo": {
          "status": "ok",
          "timestamp": 1522871819960,
          "user_tz": 240,
          "elapsed": 1380,
          "user": {
            "displayName": "Arthur Argenson",
            "photoUrl": "https://lh3.googleusercontent.com/a/default-user=s128",
            "userId": "103507511977375243246"
          }
        }
      },
      "cell_type": "code",
      "source": [
        "%%bash\n",
        "gcloud ml-engine models create $MODEL_NAME \\\n",
        "--regions us-central1"
      ],
      "execution_count": 43,
      "outputs": [
        {
          "output_type": "stream",
          "text": [
            "ERROR: (gcloud.ml-engine.models.create) Resource in project [fraud-detection-example] is the subject of a conflict: Field: model.name Error: A model with the same name already exists.\n",
            "- '@type': type.googleapis.com/google.rpc.BadRequest\n",
            "  fieldViolations:\n",
            "  - description: A model with the same name already exists.\n",
            "    field: model.name\n"
          ],
          "name": "stderr"
        }
      ]
    },
    {
      "metadata": {
        "id": "EbmBQ3cBfsyh",
        "colab_type": "text"
      },
      "cell_type": "markdown",
      "source": [
        ".. and add the current version to the GCP model created."
      ]
    },
    {
      "metadata": {
        "id": "NR_7-pBMXtEy",
        "colab_type": "code",
        "colab": {
          "autoexec": {
            "startup": false,
            "wait_interval": 0
          },
          "base_uri": "https://localhost:8080/",
          "height": 71
        },
        "outputId": "6d07f2e7-ac05-4859-d9e1-128edb58d15b",
        "executionInfo": {
          "status": "ok",
          "timestamp": 1522871989069,
          "user_tz": 240,
          "elapsed": 167206,
          "user": {
            "displayName": "Arthur Argenson",
            "photoUrl": "https://lh3.googleusercontent.com/a/default-user=s128",
            "userId": "103507511977375243246"
          }
        }
      },
      "cell_type": "code",
      "source": [
        "%%bash\n",
        "gcloud ml-engine versions create $MODEL_VERSION \\\n",
        "--model $MODEL_NAME \\\n",
        "--origin $MODEL_SAVED_NAME \\\n",
        "--runtime-version 1.4"
      ],
      "execution_count": 44,
      "outputs": [
        {
          "output_type": "stream",
          "text": [
            "Creating version (this might take a few minutes)......\n",
            "....................................................................................................................................................................................................done.\n"
          ],
          "name": "stderr"
        }
      ]
    },
    {
      "metadata": {
        "id": "83OwbdtIXtE1",
        "colab_type": "text"
      },
      "cell_type": "markdown",
      "source": [
        "**Set up environment variables**\n",
        "\n",
        "We need to specify the following:\n",
        "\n",
        "* JOB_NAME: unique name for inference job\n",
        "* FEATURES_INPUT_PATH: the path to the features to use for prediction (here it is in the output of the DataFlow job)\n",
        "* PREDICTIONS_OUTPUT_PATH: the path to the directory to store the predictions to."
      ]
    },
    {
      "metadata": {
        "id": "MlrZh45TXtE1",
        "colab_type": "code",
        "colab": {
          "autoexec": {
            "startup": false,
            "wait_interval": 0
          },
          "base_uri": "https://localhost:8080/",
          "height": 68
        },
        "outputId": "29422acb-d66a-42c6-8093-114c9dc1f0cb",
        "executionInfo": {
          "status": "ok",
          "timestamp": 1522872503367,
          "user_tz": 240,
          "elapsed": 403,
          "user": {
            "displayName": "Arthur Argenson",
            "photoUrl": "https://lh3.googleusercontent.com/a/default-user=s128",
            "userId": "103507511977375243246"
          }
        }
      },
      "cell_type": "code",
      "source": [
        "os.environ['JOB_NAME'] = '{}_{}'.format(\n",
        "    os.environ['MODEL_NAME'],\n",
        "    os.environ['MODEL_VERSION'])\n",
        "os.environ['FEATURES_INPUT_PATH'] = 'gs://{}/{}split_data/split_data_TEST_features.txt*'.format(\n",
        "    os.environ['BUCKET_ID'],\n",
        "    os.environ['DATAFLOW_OUTPUT_DIR'])\n",
        "os.environ['PREDICTIONS_OUTPUT_PATH'] = 'gs://{}/predictions/{}'.format(\n",
        "    os.environ['BUCKET_ID'],\n",
        "    os.environ['JOB_NAME'])\n",
        "print os.environ['FEATURES_INPUT_PATH']\n",
        "print os.environ['PREDICTIONS_OUTPUT_PATH']\n",
        "print os.environ['JOB_NAME']"
      ],
      "execution_count": 53,
      "outputs": [
        {
          "output_type": "stream",
          "text": [
            "gs://fraud-detection-example/data_flow_output_dir-152286339827/split_data/split_data_TEST_features.txt*\n",
            "gs://fraud-detection-example/predictions/aarg_fraud_detection_test_nb_v_152287181365\n",
            "aarg_fraud_detection_test_nb_v_152287181365\n"
          ],
          "name": "stdout"
        }
      ]
    },
    {
      "metadata": {
        "id": "paRnUsWjXtE5",
        "colab_type": "text"
      },
      "cell_type": "markdown",
      "source": [
        "**Submit prediction job**\n",
        "\n",
        "Now that the model is saved, we can launch a training job by indicating the name of the model we just stored and the path to the data to be scored (here the test sample data from the DataFlow step)."
      ]
    },
    {
      "metadata": {
        "id": "5s175Je-XtE5",
        "colab_type": "code",
        "colab": {
          "autoexec": {
            "startup": false,
            "wait_interval": 0
          },
          "base_uri": "https://localhost:8080/",
          "height": 187
        },
        "outputId": "b7c2c533-2d20-4084-a8aa-9cfde3612a30",
        "executionInfo": {
          "status": "ok",
          "timestamp": 1522872511602,
          "user_tz": 240,
          "elapsed": 3550,
          "user": {
            "displayName": "Arthur Argenson",
            "photoUrl": "https://lh3.googleusercontent.com/a/default-user=s128",
            "userId": "103507511977375243246"
          }
        }
      },
      "cell_type": "code",
      "source": [
        "%%bash\n",
        "gcloud ml-engine jobs submit prediction $JOB_NAME \\\n",
        "--model $MODEL_NAME \\\n",
        "--input-paths $FEATURES_INPUT_PATH \\\n",
        "--output-path $PREDICTIONS_OUTPUT_PATH \\\n",
        "--region us-central1 \\\n",
        "--data-format TEXT \\\n",
        "--version $MODEL_VERSION"
      ],
      "execution_count": 54,
      "outputs": [
        {
          "output_type": "stream",
          "text": [
            "jobId: aarg_fraud_detection_test_nb_v_152287181365\n",
            "state: QUEUED\n"
          ],
          "name": "stdout"
        },
        {
          "output_type": "stream",
          "text": [
            "Job [aarg_fraud_detection_test_nb_v_152287181365] submitted successfully.\n",
            "Your job is still active. You may view the status of your job with the command\n",
            "\n",
            "  $ gcloud ml-engine jobs describe aarg_fraud_detection_test_nb_v_152287181365\n",
            "\n",
            "or continue streaming the logs with the command\n",
            "\n",
            "  $ gcloud ml-engine jobs stream-logs aarg_fraud_detection_test_nb_v_152287181365\n"
          ],
          "name": "stderr"
        }
      ]
    },
    {
      "metadata": {
        "id": "VB_Z2jnHJkfx",
        "colab_type": "text"
      },
      "cell_type": "markdown",
      "source": [
        "**Monitor prediction job in Google Cloud ML-engine**\n",
        "\n",
        "You can monitor the prediction job in the GCP ML-engine console:\n",
        "\n",
        "https://cloud.google.com/ml-engine/"
      ]
    },
    {
      "metadata": {
        "id": "kVv54jVdXtE9",
        "colab_type": "text"
      },
      "cell_type": "markdown",
      "source": [
        "<h1>5. Assess model performances on out-of-sample data</h1>\n",
        "\n",
        "We can assess how well our model performed on the out-of-sample data previously scored. For this purpose we will compare predictions to true labels and derive the precision-recall curve and its AUC. Precision-recall curve AUC is a relevant metric to assess our model's performances as it reflects the fraction of the fraudulent transactions we are able to predict and the accuracy of these predictions."
      ]
    },
    {
      "metadata": {
        "id": "5Xhb4UxBXtE-",
        "colab_type": "text"
      },
      "cell_type": "markdown",
      "source": [
        "**Prepare data**\n",
        "\n",
        "First, let's pull our predictions and true labels from Cloud Storage to our local environment in a 'predictions.txt' and 'labels.txt' file."
      ]
    },
    {
      "metadata": {
        "id": "k869CwkDXtE_",
        "colab_type": "code",
        "colab": {
          "autoexec": {
            "startup": false,
            "wait_interval": 0
          },
          "base_uri": "https://localhost:8080/",
          "height": 697
        },
        "outputId": "f6eecde7-4ac9-4a0a-e219-a50ec33e5bc1",
        "executionInfo": {
          "status": "ok",
          "timestamp": 1522873056074,
          "user_tz": 240,
          "elapsed": 8522,
          "user": {
            "displayName": "Arthur Argenson",
            "photoUrl": "https://lh3.googleusercontent.com/a/default-user=s128",
            "userId": "103507511977375243246"
          }
        }
      },
      "cell_type": "code",
      "source": [
        "%%bash\n",
        "ANALYSIS_OUTPUT_PATH=.\n",
        "mkdir ${ANALYSIS_OUTPUT_PATH}/labels\n",
        "gsutil cp gs://${BUCKET_ID}/${DATAFLOW_OUTPUT_DIR}split_data/split_data_TEST_labels.txt* labels/\n",
        "cat ${ANALYSIS_OUTPUT_PATH}/labels/* > ${ANALYSIS_OUTPUT_PATH}/labels.txt\n",
        "\n",
        "mkdir ${ANALYSIS_OUTPUT_PATH}/predictions\n",
        "gsutil cp ${PREDICTIONS_OUTPUT_PATH}/prediction.results* ./predictions/\n",
        "cat ${ANALYSIS_OUTPUT_PATH}/predictions/* > ${ANALYSIS_OUTPUT_PATH}/predictions.txt"
      ],
      "execution_count": 55,
      "outputs": [
        {
          "output_type": "stream",
          "text": [
            "mkdir: cannot create directory ‘./labels’: File exists\n",
            "Copying gs://fraud-detection-example/data_flow_output_dir-152286339827/split_data/split_data_TEST_labels.txt-00000-of-00011...\n",
            "/ [0 files][    0.0 B/521.0 KiB]                                                \r/ [1 files][521.0 KiB/521.0 KiB]                                                \rCopying gs://fraud-detection-example/data_flow_output_dir-152286339827/split_data/split_data_TEST_labels.txt-00001-of-00011...\n",
            "/ [1 files][521.0 KiB/830.5 KiB]                                                \r/ [2 files][830.5 KiB/830.5 KiB]                                                \rCopying gs://fraud-detection-example/data_flow_output_dir-152286339827/split_data/split_data_TEST_labels.txt-00002-of-00011...\n",
            "/ [2 files][830.5 KiB/  1.1 MiB]                                                \r/ [3 files][  1.1 MiB/  1.1 MiB]                                                \rCopying gs://fraud-detection-example/data_flow_output_dir-152286339827/split_data/split_data_TEST_labels.txt-00003-of-00011...\n",
            "/ [3 files][  1.1 MiB/  1.3 MiB]                                                \r-\r- [4 files][  1.3 MiB/  1.3 MiB]                                                \r\n",
            "==> NOTE: You are performing a sequence of gsutil operations that may\n",
            "run significantly faster if you instead use gsutil -m -o ... Please\n",
            "see the -m section under \"gsutil help options\" for further information\n",
            "about when gsutil -m can be advantageous.\n",
            "\n",
            "Copying gs://fraud-detection-example/data_flow_output_dir-152286339827/split_data/split_data_TEST_labels.txt-00004-of-00011...\n",
            "- [4 files][  1.3 MiB/  1.6 MiB]                                                \r- [5 files][  1.6 MiB/  1.6 MiB]                                                \rCopying gs://fraud-detection-example/data_flow_output_dir-152286339827/split_data/split_data_TEST_labels.txt-00005-of-00011...\n",
            "- [5 files][  1.6 MiB/  1.7 MiB]                                                \r- [6 files][  1.7 MiB/  1.7 MiB]                                                \rCopying gs://fraud-detection-example/data_flow_output_dir-152286339827/split_data/split_data_TEST_labels.txt-00006-of-00011...\n",
            "- [6 files][  1.7 MiB/  1.8 MiB]                                                \r\\\r\\ [7 files][  1.8 MiB/  1.8 MiB]                                                \rCopying gs://fraud-detection-example/data_flow_output_dir-152286339827/split_data/split_data_TEST_labels.txt-00007-of-00011...\n",
            "\\ [7 files][  1.8 MiB/  2.1 MiB]                                                \r\\ [8 files][  2.1 MiB/  2.1 MiB]                                                \rCopying gs://fraud-detection-example/data_flow_output_dir-152286339827/split_data/split_data_TEST_labels.txt-00008-of-00011...\n",
            "\\ [8 files][  2.1 MiB/  2.6 MiB]                                                \r\\ [9 files][  2.6 MiB/  2.6 MiB]                                                \rCopying gs://fraud-detection-example/data_flow_output_dir-152286339827/split_data/split_data_TEST_labels.txt-00009-of-00011...\n",
            "\\ [9 files][  2.6 MiB/  2.9 MiB]                                                \r\\ [10 files][  2.9 MiB/  2.9 MiB]                                               \rCopying gs://fraud-detection-example/data_flow_output_dir-152286339827/split_data/split_data_TEST_labels.txt-00010-of-00011...\n",
            "\\ [10 files][  2.9 MiB/  3.4 MiB]                                               \r|\r| [11 files][  3.4 MiB/  3.4 MiB]                                               \r\n",
            "Operation completed over 11 objects/3.4 MiB.                                     \n",
            "mkdir: cannot create directory ‘./predictions’: File exists\n",
            "Copying gs://fraud-detection-example/predictions/aarg_fraud_detection_test_nb_v_152287181365/prediction.results-00000-of-00011...\n",
            "/ [0 files][    0.0 B/  1.1 MiB]                                                \r/ [1 files][  1.1 MiB/  1.1 MiB]                                                \rCopying gs://fraud-detection-example/predictions/aarg_fraud_detection_test_nb_v_152287181365/prediction.results-00001-of-00011...\n",
            "/ [1 files][  1.1 MiB/  1.7 MiB]                                                \r/ [2 files][  1.7 MiB/  1.7 MiB]                                                \rCopying gs://fraud-detection-example/predictions/aarg_fraud_detection_test_nb_v_152287181365/prediction.results-00002-of-00011...\n",
            "/ [2 files][  1.7 MiB/  3.0 MiB]                                                \r-\r- [3 files][  3.0 MiB/  3.0 MiB]                                                \rCopying gs://fraud-detection-example/predictions/aarg_fraud_detection_test_nb_v_152287181365/prediction.results-00003-of-00011...\n",
            "- [3 files][  3.0 MiB/  5.4 MiB]                                                \r- [4 files][  5.4 MiB/  5.4 MiB]                                                \r\n",
            "==> NOTE: You are performing a sequence of gsutil operations that may\n",
            "run significantly faster if you instead use gsutil -m -o ... Please\n",
            "see the -m section under \"gsutil help options\" for further information\n",
            "about when gsutil -m can be advantageous.\n",
            "\n",
            "Copying gs://fraud-detection-example/predictions/aarg_fraud_detection_test_nb_v_152287181365/prediction.results-00004-of-00011...\n",
            "- [4 files][  5.4 MiB/  6.0 MiB]                                                \r- [5 files][  6.0 MiB/  6.0 MiB]                                                \rCopying gs://fraud-detection-example/predictions/aarg_fraud_detection_test_nb_v_152287181365/prediction.results-00005-of-00011...\n",
            "- [5 files][  6.0 MiB/  7.4 MiB]                                                \r\\\r\\ [6 files][  7.4 MiB/  7.4 MiB]                                                \rCopying gs://fraud-detection-example/predictions/aarg_fraud_detection_test_nb_v_152287181365/prediction.results-00006-of-00011...\n",
            "\\ [6 files][  7.4 MiB/  8.5 MiB]                                                \r\\ [7 files][  8.5 MiB/  8.5 MiB]                                                \rCopying gs://fraud-detection-example/predictions/aarg_fraud_detection_test_nb_v_152287181365/prediction.results-00007-of-00011...\n",
            "\\ [7 files][  8.5 MiB/  9.9 MiB]                                                \r\\ [8 files][  9.9 MiB/  9.9 MiB]                                                \rCopying gs://fraud-detection-example/predictions/aarg_fraud_detection_test_nb_v_152287181365/prediction.results-00008-of-00011...\n",
            "\\ [8 files][  9.9 MiB/ 12.4 MiB]                                                \r|\r| [9 files][ 12.4 MiB/ 12.4 MiB]                                                \rCopying gs://fraud-detection-example/predictions/aarg_fraud_detection_test_nb_v_152287181365/prediction.results-00009-of-00011...\n",
            "| [9 files][ 12.4 MiB/ 14.7 MiB]                                                \r| [10 files][ 14.7 MiB/ 14.7 MiB]                                               \rCopying gs://fraud-detection-example/predictions/aarg_fraud_detection_test_nb_v_152287181365/prediction.results-00010-of-00011...\n",
            "| [10 files][ 14.7 MiB/ 15.9 MiB]                                               \r/\r/ [11 files][ 15.9 MiB/ 15.9 MiB]                                               \r\n",
            "Operation completed over 11 objects/15.9 MiB.                                    \n"
          ],
          "name": "stderr"
        }
      ]
    },
    {
      "metadata": {
        "id": "1e4XM_arXtFC",
        "colab_type": "text"
      },
      "cell_type": "markdown",
      "source": [
        "**Compute precision-recall curve**\n",
        "\n",
        "We join the labels and precision based on their hash-key (added in the DataFlow step). These are not unique and may have a few duplicates that we get rid of.\n",
        "\n",
        "We then plot the precision-recall curve and the corresponding AUC."
      ]
    },
    {
      "metadata": {
        "id": "RZwkH1KjXtFC",
        "colab_type": "code",
        "colab": {
          "autoexec": {
            "startup": false,
            "wait_interval": 0
          },
          "base_uri": "https://localhost:8080/",
          "height": 311
        },
        "outputId": "e8af6075-a353-4b73-87e8-e4526e0a7e70",
        "executionInfo": {
          "status": "ok",
          "timestamp": 1522873347339,
          "user_tz": 240,
          "elapsed": 291238,
          "user": {
            "displayName": "Arthur Argenson",
            "photoUrl": "https://lh3.googleusercontent.com/a/default-user=s128",
            "userId": "103507511977375243246"
          }
        }
      },
      "cell_type": "code",
      "source": [
        "import argparse\n",
        "import json\n",
        "import os\n",
        "import sys\n",
        "\n",
        "import numpy as np\n",
        "import matplotlib.pyplot as plt\n",
        "from sklearn.metrics import precision_recall_curve\n",
        "from sklearn.metrics import average_precision_score\n",
        "\n",
        "%matplotlib inline\n",
        "\n",
        "def extract_from_json(path, key, values, proc=(lambda x: x)):\n",
        "  \"\"\"Extracts and parses data from json files and returns a dictionary.\n",
        "\n",
        "  Args:\n",
        "    path: string, path to input data.\n",
        "    key: string, name of key column.\n",
        "    values: string, name of column containing values to extract.\n",
        "    proc: function, used to process values from input. Follows the signature:\n",
        "      * Args:\n",
        "        * x: string or tuple of string\n",
        "      * Returns:\n",
        "        string\n",
        "\n",
        "  Returns:\n",
        "    Dictionary of parsed data.\n",
        "  \"\"\"\n",
        "\n",
        "  res = {}\n",
        "  keys = []\n",
        "  with open(path) as f:\n",
        "    for line in f:\n",
        "      line = json.loads(line)\n",
        "      item_key = proc(line[key])\n",
        "      res[item_key] = line[values]\n",
        "      keys.append(item_key)\n",
        "  unique_keys = [key for key in keys if keys.count(key) == 1]\n",
        "  return {k: res[k] for k in unique_keys}\n",
        "\n",
        "def compute_and_print_pr_auc(labels, probabilities):\n",
        "  \"\"\"Computes statistic on predictions, based on true labels.\n",
        "\n",
        "  Prints precision-recall curve AUC and writes the curve as a JPG image to the\n",
        "  specified directory.\n",
        "\n",
        "  Args:\n",
        "    labels: np.array, vector containing true labels.\n",
        "    probabilities: np.array, 2-dimensional vector containing inferred\n",
        "      probabilities.\n",
        "  \"\"\"\n",
        "\n",
        "  average_precision = average_precision_score(labels, probabilities[:, 1])\n",
        "\n",
        "  precision, recall, _ = precision_recall_curve(labels, probabilities[:, 1])\n",
        "  plt.step(recall, precision, color='b', alpha=0.2, where='post')\n",
        "  plt.fill_between(recall, precision, step='post', alpha=0.2, color='b')\n",
        "  plt.xlabel('Recall')\n",
        "  plt.ylabel('Precision')\n",
        "  plt.ylim([0.0, 1.05])\n",
        "  plt.xlim([0.0, 1.0])\n",
        "  plt.title(\n",
        "    'Precision-Recall curve: AUC={0:0.2f}'.format(average_precision))\n",
        "  plt.plot()\n",
        "  print 'Precision-Recall AUC: {0:0.2f}'.format(average_precision)\n",
        "\n",
        "def run(labels_path, predictions_path):\n",
        "  \"\"\"Reads input data and runs analysis on predictions.\n",
        "\n",
        "  Args:\n",
        "    labels_path: string, path to true labels.\n",
        "    predictions_path: string, path to inferred probabilities.\n",
        "  \"\"\"\n",
        "\n",
        "  labels = extract_from_json(labels_path, 'key', 'Class')\n",
        "  proba = extract_from_json(\n",
        "    predictions_path, 'key', 'probabilities', proc=(lambda x: x[0]))\n",
        "\n",
        "  keys = labels.keys()\n",
        "  labels = np.array([labels[key] for key in keys])\n",
        "  proba = np.array([proba[key] for key in keys])\n",
        "\n",
        "  compute_and_print_pr_auc(\n",
        "    labels=labels, probabilities=proba)\n",
        "\n",
        "run(\n",
        "  labels_path='labels.txt',\n",
        "  predictions_path='predictions.txt')\n"
      ],
      "execution_count": 56,
      "outputs": [
        {
          "output_type": "stream",
          "text": [
            "Precision-Recall AUC: 0.70\n"
          ],
          "name": "stdout"
        },
        {
          "output_type": "display_data",
          "data": {
            "image/png": "[encoded data removed]",
            "text/plain": [
              "<matplotlib.figure.Figure at 0x7fe75d593b10>"
            ]
          },
          "metadata": {
            "tags": []
          }
        }
      ]
    },
    {
      "metadata": {
        "id": "Cs8QN7zPXtFF",
        "colab_type": "code",
        "colab": {
          "autoexec": {
            "startup": false,
            "wait_interval": 0
          }
        }
      },
      "cell_type": "code",
      "source": [
        ""
      ],
      "execution_count": 0,
      "outputs": []
    }
  ]
}