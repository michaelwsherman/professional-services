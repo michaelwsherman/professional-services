{
  "nbformat": 4,
  "nbformat_minor": 0,
  "metadata": {
    "colab": {
      "name": "Load Test Log Queries",
      "provenance": [],
      "collapsed_sections": [
        "6AZnmE2XGXrq",
        "sexUkYLdGc0z"
      ],
      "toc_visible": true
    },
    "kernelspec": {
      "display_name": "Python 3",
      "name": "python3"
    }
  },
  "cells": [
    {
      "cell_type": "markdown",
      "metadata": {
        "id": "UbgapGliFILi",
        "colab_type": "text"
      },
      "source": [
        "## License"
      ]
    },
    {
      "cell_type": "markdown",
      "metadata": {
        "id": "2l5ES4VuElhc",
        "colab_type": "text"
      },
      "source": [
        "Copyright 2020 Google LLC\n",
        "\n",
        "Licensed under the Apache License, Version 2.0 (the \"License\");\n",
        "you may not use this file except in compliance with the License.\n",
        "You may obtain a copy of the License at\n",
        "\n",
        "      http://www.apache.org/licenses/LICENSE-2.0\n",
        "\n",
        "Unless required by applicable law or agreed to in writing, software\n",
        "distributed under the License is distributed on an \"AS IS\" BASIS,\n",
        "WITHOUT WARRANTIES OR CONDITIONS OF ANY KIND, either express or implied.\n",
        "See the License for the specific language governing permissions and\n",
        "limitations under the License.\n"
      ]
    },
    {
      "cell_type": "markdown",
      "metadata": {
        "id": "W7i1IleCdIEZ",
        "colab_type": "text"
      },
      "source": [
        "# Load test analysis"
      ]
    },
    {
      "cell_type": "markdown",
      "metadata": {
        "id": "6AZnmE2XGXrq",
        "colab_type": "text"
      },
      "source": [
        "## Initialization"
      ]
    },
    {
      "cell_type": "code",
      "metadata": {
        "colab_type": "code",
        "id": "XHUPlLRgNBgS",
        "colab": {}
      },
      "source": [
        "from google.colab import auth\n",
        "auth.authenticate_user()\n",
        "project_id = '[your project id]'"
      ],
      "execution_count": 0,
      "outputs": []
    },
    {
      "cell_type": "markdown",
      "metadata": {
        "id": "sexUkYLdGc0z",
        "colab_type": "text"
      },
      "source": [
        "## Log Overview"
      ]
    },
    {
      "cell_type": "code",
      "metadata": {
        "colab_type": "code",
        "id": "nFF9Wz1CAyVI",
        "outputId": "f9b72bc3-eeb6-420a-be46-7ef6401cea4c",
        "colab": {
          "base_uri": "https://localhost:8080/",
          "height": 34
        }
      },
      "source": [
        "import pandas as pd\n",
        "import datetime\n",
        "today = datetime.datetime.utcnow().strftime(\"%Y%m%d\")\n",
        "df = pd.io.gbq.read_gbq('''\n",
        "  SELECT\n",
        "  count(*) as total\n",
        "FROM\n",
        "  `web_instr_container.stdout_{}`\n",
        "'''.format(today), project_id=project_id)\n",
        "\n",
        "total = df.total[0]\n",
        "print(f'Log records: {total}')"
      ],
      "execution_count": 2,
      "outputs": [
        {
          "output_type": "stream",
          "text": [
            "Log records: 20028\n"
          ],
          "name": "stdout"
        }
      ]
    },
    {
      "cell_type": "markdown",
      "metadata": {
        "id": "gPGqwNuNEjMK",
        "colab_type": "text"
      },
      "source": [
        ""
      ]
    },
    {
      "cell_type": "markdown",
      "metadata": {
        "id": "YgkJ4CrhFToC",
        "colab_type": "text"
      },
      "source": [
        "## Client Latency"
      ]
    },
    {
      "cell_type": "code",
      "metadata": {
        "id": "hNHRDHQwFWLa",
        "colab_type": "code",
        "outputId": "7435344c-4286-4691-bd1c-993937bf8f26",
        "colab": {
          "base_uri": "https://localhost:8080/",
          "height": 296
        }
      },
      "source": [
        "import pandas as pd\n",
        "import datetime\n",
        "today = datetime.datetime.utcnow().strftime(\"%Y%m%d\")\n",
        "df = pd.io.gbq.read_gbq('''\n",
        "SELECT\n",
        "  EXTRACT(MINUTE FROM timestamp) AS Minute,\n",
        "  REGEXP_EXTRACT(textPayload, r\"LoadTest: latency: ([0-9]+)\\.\") AS Latency\n",
        "FROM \n",
        "  `web_instr_container.stdout_{}`\n",
        "WHERE\n",
        "  EXTRACT(HOUR FROM timestamp) = 2\n",
        "  AND\n",
        "  EXTRACT(MINUTE FROM timestamp) > 0\n",
        "  AND\n",
        "  EXTRACT(MINUTE FROM timestamp) < 5\n",
        "ORDER BY\n",
        "  Minute\n",
        "'''.format(today), project_id=project_id)\n",
        "df1 = df[pd.isnull(df['Latency']) == False]\n",
        "df1 = df1.astype({'Minute': 'int64', 'Latency': 'int64'})\n",
        "latency = df1.groupby('Minute').median()\n",
        "ax = latency.plot()\n",
        "ax.set_xlabel('Time (min)')\n",
        "ax.set_ylabel('Median Client Latency (ms)')"
      ],
      "execution_count": 17,
      "outputs": [
        {
          "output_type": "execute_result",
          "data": {
            "text/plain": [
              "Text(0, 0.5, 'Median Client Latency (ms)')"
            ]
          },
          "metadata": {
            "tags": []
          },
          "execution_count": 17
        },
        {
          "output_type": "display_data",
          "data": {
            "image/png": "[encoded data removed]",
            "text/plain": [
              "<Figure size 432x288 with 1 Axes>"
            ]
          },
          "metadata": {
            "tags": []
          }
        }
      ]
    },
    {
      "cell_type": "markdown",
      "metadata": {
        "id": "zVnd4pgzj0ze",
        "colab_type": "text"
      },
      "source": [
        "## Scatter Plot"
      ]
    },
    {
      "cell_type": "code",
      "metadata": {
        "id": "AwHu2e3zIUCh",
        "colab_type": "code",
        "outputId": "029cb0a4-a5fe-40a0-bd92-abdbddd94694",
        "colab": {
          "base_uri": "https://localhost:8080/",
          "height": 296
        }
      },
      "source": [
        "import pandas as pd\n",
        "import datetime\n",
        "today = datetime.datetime.utcnow().strftime(\"%Y%m%d\")\n",
        "df = pd.io.gbq.read_gbq('''\n",
        "SELECT\n",
        "  EXTRACT(SECOND FROM timestamp) AS Seconds,\n",
        "  REGEXP_EXTRACT(textPayload, r\"LoadTest: latency: ([0-9]+)\\.\") AS Latency\n",
        "FROM \n",
        "  `web_instr_container.stdout_{}`\n",
        "WHERE\n",
        "  EXTRACT(HOUR FROM timestamp) = 2\n",
        "  AND\n",
        "  EXTRACT(MINUTE FROM timestamp) = 3\n",
        "ORDER BY\n",
        "  Seconds\n",
        "'''.format(today), project_id=project_id)\n",
        "df1 = df[pd.isnull(df['Latency']) == False]\n",
        "df1 = df1.astype({'Seconds': 'int64', 'Latency': 'int64'})\n",
        "ax = df1.plot.scatter(x='Seconds', y='Latency', c='DarkBlue')\n",
        "ax.set_xlabel('Time (s)')\n",
        "ax.set_ylabel('Client Latency (ms)')"
      ],
      "execution_count": 18,
      "outputs": [
        {
          "output_type": "execute_result",
          "data": {
            "text/plain": [
              "Text(0, 0.5, 'Client Latency (ms)')"
            ]
          },
          "metadata": {
            "tags": []
          },
          "execution_count": 18
        },
        {
          "output_type": "display_data",
          "data": {
            "image/png": "[encoded data removed]",
            "text/plain": [
              "<Figure size 432x288 with 1 Axes>"
            ]
          },
          "metadata": {
            "tags": []
          }
        }
      ]
    },
    {
      "cell_type": "markdown",
      "metadata": {
        "id": "Mi4EGHIwd4jK",
        "colab_type": "text"
      },
      "source": [
        "## Responses"
      ]
    },
    {
      "cell_type": "code",
      "metadata": {
        "colab_type": "code",
        "id": "y318gNmwU57S",
        "outputId": "2e40cff7-a5f3-4c37-ce8a-8a9447e4dd43",
        "colab": {
          "base_uri": "https://localhost:8080/",
          "height": 359
        }
      },
      "source": [
        "import pandas as pd\n",
        "import datetime\n",
        "today = datetime.datetime.utcnow().strftime(\"%Y%m%d\")\n",
        "df = pd.io.gbq.read_gbq('''\n",
        "SELECT\n",
        "  EXTRACT(MINUTE FROM timestamp) as Minute,\n",
        "  httpRequest.status AS Status\n",
        "FROM\n",
        "   `web_instr_load_balancer.requests_{}`\n",
        "GROUP BY\n",
        "  Minute, Status\n",
        "ORDER BY Minute, Status\n",
        "'''.format(today), project_id=project_id)\n",
        "df.head(10)"
      ],
      "execution_count": 20,
      "outputs": [
        {
          "output_type": "execute_result",
          "data": {
            "text/html": [
              "<div>\n",
              "<style scoped>\n",
              "    .dataframe tbody tr th:only-of-type {\n",
              "        vertical-align: middle;\n",
              "    }\n",
              "\n",
              "    .dataframe tbody tr th {\n",
              "        vertical-align: top;\n",
              "    }\n",
              "\n",
              "    .dataframe thead th {\n",
              "        text-align: right;\n",
              "    }\n",
              "</style>\n",
              "<table border=\"1\" class=\"dataframe\">\n",
              "  <thead>\n",
              "    <tr style=\"text-align: right;\">\n",
              "      <th></th>\n",
              "      <th>Minute</th>\n",
              "      <th>Status</th>\n",
              "    </tr>\n",
              "  </thead>\n",
              "  <tbody>\n",
              "    <tr>\n",
              "      <th>0</th>\n",
              "      <td>0</td>\n",
              "      <td>200</td>\n",
              "    </tr>\n",
              "    <tr>\n",
              "      <th>1</th>\n",
              "      <td>0</td>\n",
              "      <td>304</td>\n",
              "    </tr>\n",
              "    <tr>\n",
              "      <th>2</th>\n",
              "      <td>1</td>\n",
              "      <td>200</td>\n",
              "    </tr>\n",
              "    <tr>\n",
              "      <th>3</th>\n",
              "      <td>1</td>\n",
              "      <td>502</td>\n",
              "    </tr>\n",
              "    <tr>\n",
              "      <th>4</th>\n",
              "      <td>2</td>\n",
              "      <td>200</td>\n",
              "    </tr>\n",
              "    <tr>\n",
              "      <th>5</th>\n",
              "      <td>3</td>\n",
              "      <td>200</td>\n",
              "    </tr>\n",
              "    <tr>\n",
              "      <th>6</th>\n",
              "      <td>4</td>\n",
              "      <td>200</td>\n",
              "    </tr>\n",
              "    <tr>\n",
              "      <th>7</th>\n",
              "      <td>5</td>\n",
              "      <td>200</td>\n",
              "    </tr>\n",
              "    <tr>\n",
              "      <th>8</th>\n",
              "      <td>6</td>\n",
              "      <td>200</td>\n",
              "    </tr>\n",
              "    <tr>\n",
              "      <th>9</th>\n",
              "      <td>6</td>\n",
              "      <td>404</td>\n",
              "    </tr>\n",
              "  </tbody>\n",
              "</table>\n",
              "</div>"
            ],
            "text/plain": [
              "   Minute  Status\n",
              "0       0     200\n",
              "1       0     304\n",
              "2       1     200\n",
              "3       1     502\n",
              "4       2     200\n",
              "5       3     200\n",
              "6       4     200\n",
              "7       5     200\n",
              "8       6     200\n",
              "9       6     404"
            ]
          },
          "metadata": {
            "tags": []
          },
          "execution_count": 20
        }
      ]
    },
    {
      "cell_type": "code",
      "metadata": {
        "id": "qweYw59UL7In",
        "colab_type": "code",
        "colab": {}
      },
      "source": [
        ""
      ],
      "execution_count": 0,
      "outputs": []
    }
  ]
}